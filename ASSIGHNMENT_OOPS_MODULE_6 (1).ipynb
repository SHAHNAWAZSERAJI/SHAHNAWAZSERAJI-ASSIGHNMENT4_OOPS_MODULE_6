{
  "nbformat": 4,
  "nbformat_minor": 0,
  "metadata": {
    "colab": {
      "provenance": []
    },
    "kernelspec": {
      "name": "python3",
      "display_name": "Python 3"
    },
    "language_info": {
      "name": "python"
    }
  },
  "cells": [
    {
      "cell_type": "markdown",
      "source": [
        "# PYTHON OOPs Questions"
      ],
      "metadata": {
        "id": "x43Y3aYKWoJh"
      }
    },
    {
      "cell_type": "markdown",
      "source": [
        " 1. What is Object-Oriented Programming (OOP) ?"
      ],
      "metadata": {
        "id": "hnWZBf4ZWwyY"
      }
    },
    {
      "cell_type": "markdown",
      "source": [
        "- OOOP is a programming paradigm based on the concept of “objects.”\n",
        "Objects combine data (attributes/variables) and behavior (methods/functions) in one place.\n",
        "\n",
        "  Example: A Car object has color, speed (data), and methods like drive() and brake()."
      ],
      "metadata": {
        "id": "fuxUsJqzW9cg"
      }
    },
    {
      "cell_type": "markdown",
      "source": [
        "2. What is a class in OOP ?\n",
        ""
      ],
      "metadata": {
        "id": "kttgQ7kJW9PP"
      }
    },
    {
      "cell_type": "markdown",
      "source": [
        "- A class is a blueprint for creating objects.\n",
        "\n",
        " e.g:- We are different object of class human."
      ],
      "metadata": {
        "id": "l2OPnwOGW9HQ"
      }
    },
    {
      "cell_type": "markdown",
      "source": [
        "3. What is an object in OOP ?\n",
        ""
      ],
      "metadata": {
        "id": "rwJQEhreW8_I"
      }
    },
    {
      "cell_type": "markdown",
      "source": [
        "- An object is an instance of a class.\n",
        "\n",
        "  e.g:- my_car = Car(\"Toyota\", \"Red\")\n",
        "\n",
        "  Here, my_car is an object.\n"
      ],
      "metadata": {
        "id": "LsKxvl2ZW824"
      }
    },
    {
      "cell_type": "markdown",
      "source": [
        "4. What is the difference between abstraction and encapsulation ?\n",
        ""
      ],
      "metadata": {
        "id": "Q63yG8cIW8pv"
      }
    },
    {
      "cell_type": "markdown",
      "source": [
        "-  Abstraction → Hides implementation details, shows only the necessary parts.\n",
        "\n",
        "  Encapsulation → Bundling data and methods together, restricting direct access.\n",
        "  \n",
        "  Example:\n",
        "  \n",
        "  Abstraction: You use .sort() without knowing the algorithm inside.\n",
        "\n",
        "  Encapsulation: Private variables (__balance) in a bank account class."
      ],
      "metadata": {
        "id": "HgAYP40TW8gA"
      }
    },
    {
      "cell_type": "markdown",
      "source": [
        "5. What are dunder methods in Python ?\n"
      ],
      "metadata": {
        "id": "--PuC9lzW75g"
      }
    },
    {
      "cell_type": "markdown",
      "source": [
        "-  Dunder (Double UNDERscore) methods are special methods with names like\n",
        "\n",
        "  _ _ init_ _ , _ _ str_ _ , _ _ len _ _ .\n",
        "\n",
        " They allow customizing how objects behave with built-in operations.\n",
        "\n",
        " Example: len([1,2,3]) calls list._ _ len _ _() internally."
      ],
      "metadata": {
        "id": "aT1AiADUtg8d"
      }
    },
    {
      "cell_type": "markdown",
      "source": [
        " 6. Explain the concept of inheritance in OOP ?"
      ],
      "metadata": {
        "id": "AinH1g8-Wl9b"
      }
    },
    {
      "cell_type": "markdown",
      "source": [
        "-  Inheritance allows one class (child) to reuse the attributes/methods of another (parent).\n",
        "\n",
        "  E.g:-\n",
        "  \n",
        "  class Animal:\n",
        "    def sound(self):\n",
        "    \n",
        "     print(\"Some sound\")\n",
        "\n",
        "  class Dog(Animal):\n",
        "\n",
        "    def sound(self):\n",
        "    \n",
        "     print(\"Bark\")\n"
      ],
      "metadata": {
        "id": "cLQlieI1tT6W"
      }
    },
    {
      "cell_type": "markdown",
      "source": [
        "7. What is polymorphism in OOP?"
      ],
      "metadata": {
        "id": "Z7xnNz40ubxy"
      }
    },
    {
      "cell_type": "markdown",
      "source": [
        "-   Polymorphism means \"many forms\" → same function name can work differently for different classes.\n",
        "  \n",
        "  Example:\n",
        "\n",
        "  len(\"hello\")\n",
        "\n",
        "  vs\n",
        "\n",
        "  len([1,2,3])."
      ],
      "metadata": {
        "id": "pPlOWJ21vAQY"
      }
    },
    {
      "cell_type": "markdown",
      "source": [
        " 8. How is encapsulation achieved in Python?"
      ],
      "metadata": {
        "id": "aHhdE-OjvMIh"
      }
    },
    {
      "cell_type": "markdown",
      "source": [
        "-  By making variables private (__variable) and providing methods (getters/setters) to control access."
      ],
      "metadata": {
        "id": "YNoMYva1vcx-"
      }
    },
    {
      "cell_type": "markdown",
      "source": [
        "9. What is a constructor in Python?"
      ],
      "metadata": {
        "id": "nfU3rDN0vjDG"
      }
    },
    {
      "cell_type": "markdown",
      "source": [
        "-  A constructor is a special method \" _ _ init_ _\" that initializes object attributes when an object is created."
      ],
      "metadata": {
        "id": "32AG7X3hvlJm"
      }
    },
    {
      "cell_type": "markdown",
      "source": [
        "10. What are class and static methods in Python ?\n",
        "\n",
        "- Class method → Defined with @classmethod, it takes cls and works on the class itself.\n",
        "\n",
        " Static method → Defined with @staticmethod, it doesn’t take self or cls and behaves like a normal function inside a class."
      ],
      "metadata": {
        "id": "w_97QHKkvswO"
      }
    },
    {
      "cell_type": "markdown",
      "source": [
        "11. What is method overloading in Python ?\n",
        "\n",
        "- Method overloading is the practice of invoking the same method more than\n",
        "once with different parameters. Method overloading is not supported by Python. Even if you overload the method, Python only takes into account the most recent definition. If you overload a method in Python, a TypeError will be raised.\n",
        "\n",
        " e.g:-\n",
        " def greet(name=None):\n",
        "\n",
        "    return \"Hello\" if not name else f\"Hello {name}\"\n",
        "\n"
      ],
      "metadata": {
        "id": "CGyEkQBQwhN7"
      }
    },
    {
      "cell_type": "markdown",
      "source": [
        "12. What is method overriding in OOP ?\n",
        "- In Python, method overriding is the process of providing a different\n",
        "implementation for a method that is already defined in the superclass within a subclass. It enables the\n",
        "subclass to define its own version of a method with the same name and parameters as the method in the\n",
        "superclass.\n",
        ""
      ],
      "metadata": {
        "id": "XkBqHpsN8gEM"
      }
    },
    {
      "cell_type": "markdown",
      "source": [
        "13. What is a property decorator in Python ?\n",
        "- The @property decorator in Python is a built-in decorator that allows you to define methods within a class that can be accessed like attributes. This provides a more \"Pythonic\" way to implement getters, setters, and deleters for class attributes, without needing to explicitly call methods like\n",
        "get_attribute() or set_attribute().\n",
        ""
      ],
      "metadata": {
        "id": "5bH027G0-JJW"
      }
    },
    {
      "cell_type": "markdown",
      "source": [
        "14. Why is polymorphism important in OOP ?\n",
        "- It increases flexibility and code reusability by allowing one function/method name to work differently depending on the object."
      ],
      "metadata": {
        "id": "jmeSMjwk-NrW"
      }
    },
    {
      "cell_type": "markdown",
      "source": [
        "15. What is an abstract class in Python ?\n",
        "- An abstract class in Python is a class that cannot be instantiated directly and serves as a blueprint for other classes. It is designed to define a common interface and enforce a specific structure for its subclasses.\n"
      ],
      "metadata": {
        "id": "2x3q6t_J-UD2"
      }
    },
    {
      "cell_type": "markdown",
      "source": [
        " 16. What are the advantages of OOP ?\n",
        " - Provides a clear structure to programs.\n",
        " - Makes code easier to maintain, reuse, and debug\n",
        " - Helps keep your code DRY (Don't Repeat Yourself)\n",
        " - Allows you to build reusable applications with less code\n",
        "\n",
        " Code reusability\n",
        "\n",
        " Modularity\n",
        "\n",
        " Easy maintenance\n",
        "\n",
        " Real-world modeling"
      ],
      "metadata": {
        "id": "LiZX4mLR-YXl"
      }
    },
    {
      "cell_type": "markdown",
      "source": [
        "17. What is the difference between a class variable and an instance variable ?\n",
        "- The main difference between class variables and instance variables is that class variables are shared by all instances of the class, while instance variables are unique to each instance.\n",
        "\n",
        " Class variables are useful when you want to share data between all instances of a class. For example, you might use a class variable to keep track of the number of instances created, or to store a constant value that is used by all instances.\n",
        "\n",
        " Instance variables, on the other hand, are useful when you want to store data that is specific to each instance. For example, you might use an instance variable to store the name of a person, or the age of a person."
      ],
      "metadata": {
        "id": "CZBNmUoI-aud"
      }
    },
    {
      "cell_type": "markdown",
      "source": [
        "18. What is multiple inheritance in Python ?\n",
        "- One child class may inherit from several parent classes when there is multiple inheritance.Multiple inheritance allows classes to inherit and combine the behavior of multiple parent classes, providing flexibility in designing complex class hierarchies."
      ],
      "metadata": {
        "id": "RAAPQ_oy-kPF"
      }
    },
    {
      "cell_type": "markdown",
      "source": [
        " 19. Explain the purpose of ‘’__ str__’  and  ‘__ repr__’ ‘ methods in Python ?\n",
        " -__ str__ provides a readable, user-friendly string for an object, used by print() and str().\n",
        "\n",
        "  __ repr__ gives an unambiguous, developer-oriented representation, used by repr() and the interactive interpreter."
      ],
      "metadata": {
        "id": "aF-s2W6d-pyl"
      }
    },
    {
      "cell_type": "markdown",
      "source": [
        "20. What is the significance of the ‘super()’ function in Python ?\n",
        "- The super() function in Python holds significant importance within the context of object-oriented programming, particularly concerning inheritance. Its primary significance lies in enabling proper method resolution order (MRO) and facilitating code reuse in class hierarchies.\n",
        ""
      ],
      "metadata": {
        "id": "BUmGMibo-xXM"
      }
    },
    {
      "cell_type": "markdown",
      "source": [
        "21. What is the significance of the __ del__ method in Python ?\n",
        "- The __ del__ method in Python, often referred to as a destructor, holds significance primarily for resource management and cleanup actions when an object is about to be destroyed.\n",
        "\n",
        ""
      ],
      "metadata": {
        "id": "9JfCqERd-6oF"
      }
    },
    {
      "cell_type": "markdown",
      "source": [
        "22. What is the difference between @staticmethod and @classmethod in Python ?\n",
        "\n",
        " The difference between the Class method and the static method is:\n",
        "\n",
        "- A class method takes cls as the first parameter while a static method needs no specific parameters.\n",
        "- A class method can access or modify the class state while a static method can't access or modify it.\n",
        "- In general, static methods know nothing about the class state. They are utility-type methods that take some parameters and work upon those parameters. On the other hand class methods must have class as a parameter.\n",
        "- We use @classmethod decorator in python to create a class method and we use @staticmethod decorator to create a static method in python."
      ],
      "metadata": {
        "id": "VgeEdY0V-9Pk"
      }
    },
    {
      "cell_type": "markdown",
      "source": [
        "23. How does polymorphism work in Python with inheritance ?\n",
        "- Polymorphism in Python, particularly in the context of inheritance, allows objects of different classes to be treated uniformly through a common interface. This means that a single method name can behave differently depending on the object it is called upon, even if those objects belong to different classes within an inheritance hierarchy."
      ],
      "metadata": {
        "id": "N8TDCJ8O_Aar"
      }
    },
    {
      "cell_type": "markdown",
      "source": [
        "24. What is method chaining in Python OOP ?\n",
        "- Calling multiple methods on the same object in a single line because each method returns self.\n",
        "\n",
        " e.g:-\n",
        "\n",
        "  obj.setName(\"Tom\").setAge(25).show()"
      ],
      "metadata": {
        "id": "AvxA08sv_D4r"
      }
    },
    {
      "cell_type": "markdown",
      "source": [
        "25. What is the purpose of the __ call__ method in Python ?\n",
        "- It allows an object to be called like a function.\n",
        "\n",
        " class Adder:\n",
        "\n",
        "    def __call__(self, a, b):\n",
        "    \n",
        "    return a+b\n",
        "\n",
        "    add = Adder()\n",
        "\n",
        "    print(add(2,3))  # behaves like a function\n"
      ],
      "metadata": {
        "id": "ktD9BYZN_Hcb"
      }
    },
    {
      "cell_type": "markdown",
      "source": [
        "# **Practical Questions**"
      ],
      "metadata": {
        "id": "mdA4VbU1t8fG"
      }
    },
    {
      "cell_type": "markdown",
      "source": [
        " 1. Create a parent class Animal with a method speak() that prints a generic message. Create a child class Dog\n",
        "that overrides the speak() method to print \"Bark!\".\n"
      ],
      "metadata": {
        "id": "d_hH2J7jvkZG"
      }
    },
    {
      "cell_type": "code",
      "source": [
        "class Animal:\n",
        "    def speak(self):\n",
        "        print(\"This is a generic animal sound.\")\n",
        "\n",
        "class Dog(Animal):\n",
        "    def speak(self):\n",
        "        print(\"Bark!\")\n",
        "\n",
        "d = Dog()\n",
        "d.speak()\n"
      ],
      "metadata": {
        "colab": {
          "base_uri": "https://localhost:8080/"
        },
        "id": "oyHAHht2v-Te",
        "outputId": "9a9b1a68-1cd1-4e6f-edec-2c52ffd49e94"
      },
      "execution_count": 1,
      "outputs": [
        {
          "output_type": "stream",
          "name": "stdout",
          "text": [
            "Bark!\n"
          ]
        }
      ]
    },
    {
      "cell_type": "markdown",
      "source": [
        " 2. Write a program to create an abstract class Shape with a method area(). Derive classes Circle and Rectangle\n",
        "from it and implement the area() method in both.\n",
        ""
      ],
      "metadata": {
        "id": "dUp1GnqKwSnX"
      }
    },
    {
      "cell_type": "code",
      "source": [
        "from abc import ABC, abstractmethod\n",
        "\n",
        "class Shape(ABC):\n",
        "    @abstractmethod\n",
        "    def area(self):\n",
        "        pass\n",
        "\n",
        "class Circle(Shape):\n",
        "    def __init__(self, r):\n",
        "        self.r = r\n",
        "    def area(self):\n",
        "        return 3.14 * self.r * self.r\n",
        "\n",
        "class Rectangle(Shape):\n",
        "    def __init__(self, l, w):\n",
        "        self.l = l\n",
        "        self.w = w\n",
        "    def area(self):\n",
        "        return self.l * self.w\n",
        "\n",
        "c = Circle(5)\n",
        "r = Rectangle(4, 6)\n",
        "print(\"Circle area:\", c.area())\n",
        "print(\"Rectangle area:\", r.area())\n"
      ],
      "metadata": {
        "colab": {
          "base_uri": "https://localhost:8080/"
        },
        "id": "oJVRGb4_whrm",
        "outputId": "10236aec-ac55-40bf-93ac-18765f372edf"
      },
      "execution_count": 2,
      "outputs": [
        {
          "output_type": "stream",
          "name": "stdout",
          "text": [
            "Circle area: 78.5\n",
            "Rectangle area: 24\n"
          ]
        }
      ]
    },
    {
      "cell_type": "markdown",
      "source": [
        "3. Implement a multi-level inheritance scenario where a class Vehicle has an attribute type. Derive a class Car\n",
        "and further derive a class ElectricCar that adds a battery attribute.\n",
        ""
      ],
      "metadata": {
        "id": "4r-w7fvEw7Vj"
      }
    },
    {
      "cell_type": "code",
      "source": [
        "class Vehicle:\n",
        "    def __init__(self, v_type):\n",
        "        self.type = v_type\n",
        "\n",
        "class Car(Vehicle):\n",
        "    def __init__(self, brand, v_type=\"Car\"):\n",
        "        super().__init__(v_type)\n",
        "        self.brand = brand\n",
        "\n",
        "class ElectricCar(Car):\n",
        "    def __init__(self, brand, battery):\n",
        "        super().__init__(brand)\n",
        "        self.battery = battery\n",
        "\n",
        "e = ElectricCar(\"Tesla\", \"100 kWh\")\n",
        "print(e.type, e.brand, e.battery)\n"
      ],
      "metadata": {
        "colab": {
          "base_uri": "https://localhost:8080/"
        },
        "id": "DYHsLy6hxFvT",
        "outputId": "17795be8-e435-4aa7-f6ff-4803a3c6a646"
      },
      "execution_count": 3,
      "outputs": [
        {
          "output_type": "stream",
          "name": "stdout",
          "text": [
            "Car Tesla 100 kWh\n"
          ]
        }
      ]
    },
    {
      "cell_type": "markdown",
      "source": [
        "4. Demonstrate polymorphism by creating a base class Bird with a method fly(). Create two derived classes\n",
        "Sparrow and Penguin that override the fly() method.\n"
      ],
      "metadata": {
        "id": "KEVc7YqVxGJL"
      }
    },
    {
      "cell_type": "code",
      "source": [
        "class Bird:\n",
        "    def fly(self):\n",
        "        print(\"Birds can fly in general.\")\n",
        "\n",
        "class Sparrow(Bird):\n",
        "    def fly(self):\n",
        "        print(\"Sparrow can fly high!\")\n",
        "\n",
        "class Penguin(Bird):\n",
        "    def fly(self):\n",
        "        print(\"Penguins cannot fly.\")\n",
        "\n",
        "for b in [Sparrow(), Penguin()]:\n",
        "    b.fly()\n"
      ],
      "metadata": {
        "colab": {
          "base_uri": "https://localhost:8080/"
        },
        "id": "rdlwZDSNxPWa",
        "outputId": "43d9f200-d6c2-4578-e2ce-5695c42f6198"
      },
      "execution_count": 4,
      "outputs": [
        {
          "output_type": "stream",
          "name": "stdout",
          "text": [
            "Sparrow can fly high!\n",
            "Penguins cannot fly.\n"
          ]
        }
      ]
    },
    {
      "cell_type": "markdown",
      "source": [
        "5. Write a program to demonstrate encapsulation by creating a class BankAccount with private attributes\n",
        "balance and methods to deposit, withdraw, and check balance."
      ],
      "metadata": {
        "id": "7mNCttyPxPwa"
      }
    },
    {
      "cell_type": "code",
      "source": [
        "class BankAccount:\n",
        "    def __init__(self, balance=0):\n",
        "        self.__balance = balance\n",
        "\n",
        "    def deposit(self, amount):\n",
        "        self.__balance += amount\n",
        "\n",
        "    def withdraw(self, amount):\n",
        "        if amount <= self.__balance:\n",
        "            self.__balance -= amount\n",
        "        else:\n",
        "            print(\"Insufficient funds!\")\n",
        "\n",
        "    def get_balance(self):\n",
        "        return self.__balance\n",
        "\n",
        "b = BankAccount(1000)\n",
        "b.deposit(500)\n",
        "b.withdraw(200)\n",
        "print(\"Balance:\", b.get_balance())\n"
      ],
      "metadata": {
        "colab": {
          "base_uri": "https://localhost:8080/"
        },
        "id": "UKMXVuAcxQxa",
        "outputId": "637fe871-3346-4ae1-e269-f3afb6ce8061"
      },
      "execution_count": 5,
      "outputs": [
        {
          "output_type": "stream",
          "name": "stdout",
          "text": [
            "Balance: 1300\n"
          ]
        }
      ]
    },
    {
      "cell_type": "markdown",
      "source": [
        "6. Demonstrate runtime polymorphism using a method play() in a base class Instrument. Derive classes Guitar\n",
        "and Piano that implement their own version of play()."
      ],
      "metadata": {
        "id": "jQkdMF4AxRGr"
      }
    },
    {
      "cell_type": "code",
      "source": [
        "class Instrument:\n",
        "    def play(self):\n",
        "        print(\"Playing an instrument...\")\n",
        "\n",
        "class Guitar(Instrument):\n",
        "    def play(self):\n",
        "        print(\"Strumming the guitar!\")\n",
        "\n",
        "class Piano(Instrument):\n",
        "    def play(self):\n",
        "        print(\"Playing the piano!\")\n",
        "\n",
        "for i in [Guitar(), Piano()]:\n",
        "    i.play()\n"
      ],
      "metadata": {
        "colab": {
          "base_uri": "https://localhost:8080/"
        },
        "id": "XxeiVTDJxiYh",
        "outputId": "fc15a1c4-a606-4398-d285-1f98a727f530"
      },
      "execution_count": 6,
      "outputs": [
        {
          "output_type": "stream",
          "name": "stdout",
          "text": [
            "Strumming the guitar!\n",
            "Playing the piano!\n"
          ]
        }
      ]
    },
    {
      "cell_type": "markdown",
      "source": [
        "7. Create a class MathOperations with a class method add_numbers() to add two numbers and a static\n",
        "method subtract_numbers() to subtract two numbers.\n"
      ],
      "metadata": {
        "id": "ArlZ8a3KxjAw"
      }
    },
    {
      "cell_type": "code",
      "source": [
        "class MathOperations:\n",
        "    @classmethod\n",
        "    def add_numbers(cls, a, b):\n",
        "        return a + b\n",
        "\n",
        "    @staticmethod\n",
        "    def subtract_numbers(a, b):\n",
        "        return a - b\n",
        "\n",
        "print(MathOperations.add_numbers(5, 3))\n",
        "print(MathOperations.subtract_numbers(10, 4))\n"
      ],
      "metadata": {
        "colab": {
          "base_uri": "https://localhost:8080/"
        },
        "id": "ON7f4yxAx4MA",
        "outputId": "d7c660a5-b56a-4000-e009-6bc54062462f"
      },
      "execution_count": 7,
      "outputs": [
        {
          "output_type": "stream",
          "name": "stdout",
          "text": [
            "8\n",
            "6\n"
          ]
        }
      ]
    },
    {
      "cell_type": "markdown",
      "source": [
        " 8. Implement a class Person with a class method to count the total number of persons created.\n",
        ""
      ],
      "metadata": {
        "id": "s_-4UNhQx4jz"
      }
    },
    {
      "cell_type": "code",
      "source": [
        "class Person:\n",
        "    count = 0\n",
        "    def __init__(self, name):\n",
        "        self.name = name\n",
        "        Person.count += 1\n",
        "\n",
        "    @classmethod\n",
        "    def total_persons(cls):\n",
        "        return cls.count\n",
        "\n",
        "p1 = Person(\"Alice\")\n",
        "p2 = Person(\"Bob\")\n",
        "print(\"Total persons:\", Person.total_persons())\n"
      ],
      "metadata": {
        "colab": {
          "base_uri": "https://localhost:8080/"
        },
        "id": "NJLCAa0yx78Q",
        "outputId": "fc442a18-57be-4b6e-8c60-f8f4a6c262b6"
      },
      "execution_count": 8,
      "outputs": [
        {
          "output_type": "stream",
          "name": "stdout",
          "text": [
            "Total persons: 2\n"
          ]
        }
      ]
    },
    {
      "cell_type": "markdown",
      "source": [
        "9. Write a class Fraction with attributes numerator and denominator. Override the str method to display the\n",
        "fraction as \"numerator/denominator\".\n"
      ],
      "metadata": {
        "id": "3mzQGXbjx8R_"
      }
    },
    {
      "cell_type": "code",
      "source": [
        "class Fraction:\n",
        "    def __init__(self, num, den):\n",
        "        self.num = num\n",
        "        self.den = den\n",
        "\n",
        "    def __str__(self):\n",
        "        return f\"{self.num}/{self.den}\"\n",
        "\n",
        "f = Fraction(3, 4)\n",
        "print(f)\n"
      ],
      "metadata": {
        "colab": {
          "base_uri": "https://localhost:8080/"
        },
        "id": "CtkoDwnVyBD3",
        "outputId": "1b14e282-0b45-4122-f83b-2e8b81ec7071"
      },
      "execution_count": 9,
      "outputs": [
        {
          "output_type": "stream",
          "name": "stdout",
          "text": [
            "3/4\n"
          ]
        }
      ]
    },
    {
      "cell_type": "markdown",
      "source": [
        " 10. Demonstrate operator overloading by creating a class Vector and overriding the add method to add two\n",
        "vectors.\n"
      ],
      "metadata": {
        "id": "oJSMMdVayBXI"
      }
    },
    {
      "cell_type": "code",
      "source": [
        "class Vector:\n",
        "    def __init__(self, x, y):\n",
        "        self.x = x\n",
        "        self.y = y\n",
        "\n",
        "    def __add__(self, other):\n",
        "        return Vector(self.x + other.x, self.y + other.y)\n",
        "\n",
        "    def __str__(self):\n",
        "        return f\"({self.x}, {self.y})\"\n",
        "\n",
        "v1 = Vector(2, 3)\n",
        "v2 = Vector(4, 5)\n",
        "print(v1 + v2)\n"
      ],
      "metadata": {
        "colab": {
          "base_uri": "https://localhost:8080/"
        },
        "id": "2HuMO3jxyDv_",
        "outputId": "2db5f17d-fce1-4b81-b1b8-3013827d48c5"
      },
      "execution_count": 10,
      "outputs": [
        {
          "output_type": "stream",
          "name": "stdout",
          "text": [
            "(6, 8)\n"
          ]
        }
      ]
    },
    {
      "cell_type": "markdown",
      "source": [
        " 11. Create a class Person with attributes name and age. Add a method greet() that prints \"Hello, my name is\n",
        "{name} and I am {age} years old.\"\n",
        ""
      ],
      "metadata": {
        "id": "pTW9YtkGyEQW"
      }
    },
    {
      "cell_type": "code",
      "source": [
        "class Person:\n",
        "    def __init__(self, name, age):\n",
        "        self.name = name\n",
        "        self.age = age\n",
        "\n",
        "    def greet(self):\n",
        "        print(f\"Hello, my name is {self.name} and I am {self.age} years old.\")\n",
        "\n",
        "p = Person(\"Alice\", 25)\n",
        "p.greet()\n"
      ],
      "metadata": {
        "colab": {
          "base_uri": "https://localhost:8080/"
        },
        "id": "GgdXm7StyHFH",
        "outputId": "ea30683a-1b8c-4d17-fe23-d5adc6edcb74"
      },
      "execution_count": 11,
      "outputs": [
        {
          "output_type": "stream",
          "name": "stdout",
          "text": [
            "Hello, my name is Alice and I am 25 years old.\n"
          ]
        }
      ]
    },
    {
      "cell_type": "markdown",
      "source": [
        "12. Implement a class Student with attributes name and grades. Create a method average_grade() to compute\n",
        "the average of the grades.\n"
      ],
      "metadata": {
        "id": "OPY-xUNNyHZ3"
      }
    },
    {
      "cell_type": "code",
      "source": [
        "class Student:\n",
        "    def __init__(self, name, grades):\n",
        "        self.name = name\n",
        "        self.grades = grades\n",
        "\n",
        "    def average_grade(self):\n",
        "        return sum(self.grades) / len(self.grades)\n",
        "\n",
        "s = Student(\"John\", [85, 90, 78])\n",
        "print(\"Average:\", s.average_grade())\n"
      ],
      "metadata": {
        "colab": {
          "base_uri": "https://localhost:8080/"
        },
        "id": "y5XHTdqgyL-e",
        "outputId": "ff2d1162-7b06-4050-e537-df635fffbd1d"
      },
      "execution_count": 12,
      "outputs": [
        {
          "output_type": "stream",
          "name": "stdout",
          "text": [
            "Average: 84.33333333333333\n"
          ]
        }
      ]
    },
    {
      "cell_type": "markdown",
      "source": [
        " 13. Create a class Rectangle with methods set_dimensions() to set the dimensions and area() to calculate the\n",
        "area.\n",
        ""
      ],
      "metadata": {
        "id": "pn2b9IRqyMWH"
      }
    },
    {
      "cell_type": "code",
      "source": [
        "class Rectangle:\n",
        "    def set_dimensions(self, l, w):\n",
        "        self.l = l\n",
        "        self.w = w\n",
        "\n",
        "    def area(self):\n",
        "        return self.l * self.w\n",
        "\n",
        "r = Rectangle()\n",
        "r.set_dimensions(4, 5)\n",
        "print(\"Area:\", r.area())\n"
      ],
      "metadata": {
        "colab": {
          "base_uri": "https://localhost:8080/"
        },
        "id": "6YOAhvryyO_4",
        "outputId": "e7439e19-e4e6-4bfb-feec-d4dfc0ef0370"
      },
      "execution_count": 13,
      "outputs": [
        {
          "output_type": "stream",
          "name": "stdout",
          "text": [
            "Area: 20\n"
          ]
        }
      ]
    },
    {
      "cell_type": "markdown",
      "source": [
        "14. Create a class Employee with a method calculate_salary() that computes the salary based on hours worked\n",
        "and hourly rate. Create a derived class Manager that adds a bonus to the salary.\n",
        " Java + DSA\n",
        " Pwskills\n"
      ],
      "metadata": {
        "id": "7CyCs36ZyPUG"
      }
    },
    {
      "cell_type": "code",
      "source": [
        "class Employee:\n",
        "    def calculate_salary(self, hours, rate):\n",
        "        return hours * rate\n",
        "\n",
        "class Manager(Employee):\n",
        "    def calculate_salary(self, hours, rate, bonus=0):\n",
        "        return super().calculate_salary(hours, rate) + bonus\n",
        "\n",
        "m = Manager()\n",
        "print(\"Manager Salary:\", m.calculate_salary(40, 50, 1000))\n"
      ],
      "metadata": {
        "colab": {
          "base_uri": "https://localhost:8080/"
        },
        "id": "vBoYrdnEyTiv",
        "outputId": "71e8db4d-1362-4b49-ce82-4717f6aa0415"
      },
      "execution_count": 14,
      "outputs": [
        {
          "output_type": "stream",
          "name": "stdout",
          "text": [
            "Manager Salary: 3000\n"
          ]
        }
      ]
    },
    {
      "cell_type": "markdown",
      "source": [
        "15. Create a class Product with attributes name, price, and quantity. Implement a method total_price() that\n",
        "calculates the total price of the product.\n",
        ""
      ],
      "metadata": {
        "id": "ttArltigyUBe"
      }
    },
    {
      "cell_type": "code",
      "source": [
        "class Product:\n",
        "    def __init__(self, name, price, quantity):\n",
        "        self.name = name\n",
        "        self.price = price\n",
        "        self.quantity = quantity\n",
        "\n",
        "    def total_price(self):\n",
        "        return self.price * self.quantity\n",
        "\n",
        "p = Product(\"Laptop\", 50000, 2)\n",
        "print(\"Total Price:\", p.total_price())\n"
      ],
      "metadata": {
        "colab": {
          "base_uri": "https://localhost:8080/"
        },
        "id": "P8aWHN8lyWiO",
        "outputId": "85a40788-9459-4a75-b284-bcaa9272d858"
      },
      "execution_count": 15,
      "outputs": [
        {
          "output_type": "stream",
          "name": "stdout",
          "text": [
            "Total Price: 100000\n"
          ]
        }
      ]
    },
    {
      "cell_type": "markdown",
      "source": [
        "16. Create a class Animal with an abstract method sound(). Create two derived classes Cow and Sheep that\n",
        "implement the sound() method.\n",
        ""
      ],
      "metadata": {
        "id": "w8t0feFzyW5P"
      }
    },
    {
      "cell_type": "code",
      "source": [
        "from abc import ABC, abstractmethod\n",
        "\n",
        "class Animal(ABC):\n",
        "    @abstractmethod\n",
        "    def sound(self):\n",
        "        pass\n",
        "\n",
        "class Cow(Animal):\n",
        "    def sound(self):\n",
        "        print(\"Moo\")\n",
        "\n",
        "class Sheep(Animal):\n",
        "    def sound(self):\n",
        "        print(\"Baa\")\n",
        "\n",
        "for a in [Cow(), Sheep()]:\n",
        "    a.sound()\n"
      ],
      "metadata": {
        "colab": {
          "base_uri": "https://localhost:8080/"
        },
        "id": "gCdXuRkKyYp2",
        "outputId": "2632027f-36e3-4c1f-c5bc-204619500232"
      },
      "execution_count": 16,
      "outputs": [
        {
          "output_type": "stream",
          "name": "stdout",
          "text": [
            "Moo\n",
            "Baa\n"
          ]
        }
      ]
    },
    {
      "cell_type": "markdown",
      "source": [
        "17. Create a class Book with attributes title, author, and year_published. Add a method get_book_info() that\n",
        "returns a formatted string with the book's details.\n",
        ""
      ],
      "metadata": {
        "id": "s-eXLrUvyY9m"
      }
    },
    {
      "cell_type": "code",
      "source": [
        "class Book:\n",
        "    def __init__(self, title, author, year):\n",
        "        self.title = title\n",
        "        self.author = author\n",
        "        self.year = year\n",
        "\n",
        "    def get_book_info(self):\n",
        "        return f\"{self.title} by {self.author} ({self.year})\"\n",
        "\n",
        "b = Book(\"1984\", \"George Orwell\", 1949)\n",
        "print(b.get_book_info())\n"
      ],
      "metadata": {
        "colab": {
          "base_uri": "https://localhost:8080/"
        },
        "id": "8NvlhMCNyatu",
        "outputId": "5e2a2622-3d14-4f4c-a890-d4e001f4a244"
      },
      "execution_count": 17,
      "outputs": [
        {
          "output_type": "stream",
          "name": "stdout",
          "text": [
            "1984 by George Orwell (1949)\n"
          ]
        }
      ]
    },
    {
      "cell_type": "markdown",
      "source": [
        "18. Create a class House with attributes address and price. Create a derived class Mansion that adds an\n",
        "attribute number_of_rooms"
      ],
      "metadata": {
        "id": "9O8t0qo8ybB-"
      }
    },
    {
      "cell_type": "code",
      "source": [
        "class House:\n",
        "    def __init__(self, address, price):\n",
        "        self.address = address\n",
        "        self.price = price\n",
        "\n",
        "class Mansion(House):\n",
        "    def __init__(self, address, price, rooms):\n",
        "        super().__init__(address, price)\n",
        "        self.rooms = rooms\n",
        "\n",
        "m = Mansion(\"Beverly Hills\", 5000000, 10)\n",
        "print(m.address, m.price, m.rooms)\n"
      ],
      "metadata": {
        "colab": {
          "base_uri": "https://localhost:8080/"
        },
        "id": "eICo25Smyhd2",
        "outputId": "f0d5dbb4-205b-40a1-a6f3-466d794d9331"
      },
      "execution_count": 18,
      "outputs": [
        {
          "output_type": "stream",
          "name": "stdout",
          "text": [
            "Beverly Hills 5000000 10\n"
          ]
        }
      ]
    }
  ]
}